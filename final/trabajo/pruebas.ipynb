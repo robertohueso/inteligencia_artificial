{
 "cells": [
  {
   "cell_type": "code",
   "execution_count": 1,
   "metadata": {},
   "outputs": [
    {
     "name": "stdout",
     "output_type": "stream",
     "text": [
      "------Sin pospoda------\n",
      " * Si (Clase = Primera) y Entonces Sobrevive = Si\n",
      " * Si (Edad = Menor) y Entonces Sobrevive = Si\n",
      " * En caso contrario, Sobrevive = No\n",
      "Rendimiento = 0.775\n",
      "------Con pospoda------\n",
      " * Si (Clase = Primera) y Entonces Sobrevive = Si\n",
      " * En caso contrario, Sobrevive = No\n",
      "Rendimiento = 0.75\n"
     ]
    }
   ],
   "source": [
    "from reglas import *"
   ]
  },
  {
   "cell_type": "markdown",
   "metadata": {},
   "source": [
    "# Parte 1"
   ]
  },
  {
   "cell_type": "code",
   "execution_count": 2,
   "metadata": {},
   "outputs": [
    {
     "data": {
      "text/plain": [
       "[[(2, '+'), (3, 'Normal'), (1, 'Miope')],\n",
       " [(0, 'Joven'), (2, '+'), (3, 'Normal')]]"
      ]
     },
     "execution_count": 2,
     "metadata": {},
     "output_type": "execute_result"
    }
   ],
   "source": [
    "cobertura(lentes.entr,lentes.atributos,\"Rígida\")\n",
    "# [[(2, '+'), (3, 'Normal'), (1, 'Miope')],\n",
    "#  [(0, 'Joven'), (2, '+'), (3, 'Normal')]]\n",
    "\n",
    "\n",
    "#cobertura(lentes.entr,lentes.atributos,\"Blanda\")\n",
    "# [[(2, '-'), (3, 'Normal'), (1, 'Hipermétrope')],\n",
    "#  [(2, '-'), (3, 'Normal'), (0, 'Joven')],\n",
    "#  [(0, 'Prepresbicia'), (2, '-'), (3, 'Normal')]]\n",
    "\n",
    "#cobertura(jugar_tenis.entr,jugar_tenis.atributos,\"no\")\n",
    "# [[(0, 'Soleado'), (2, 'Alta')], \n",
    "#  [(0, 'Lluvia'), (3, 'Fuerte')]]\n",
    "\n",
    "#cobertura(credito.entr,credito.atributos,\"conceder\") \n",
    "# [[(0, 'funcionario'), (5, 'altos')],\n",
    "#  [(2, 'dos o más'), (5, 'medios')],\n",
    "#  [(0, 'laboral'), (5, 'altos'), (1, 'ninguno')],\n",
    "#  [(2, 'dos o más'), (0, 'funcionario'), (4, 'soltero')],\n",
    "#  [(2, 'dos o más'), (0, 'funcionario'), (1, 'uno')],\n",
    "#  [(0, 'laboral'), (5, 'altos'), (2, 'dos o más')],\n",
    "#  [(0, 'laboral'), (5, 'altos'), (3, 'dos o más')],\n",
    "#  [(2, 'dos o más'), (0, 'funcionario'), (3, 'uno')],\n",
    "#  [(0, 'laboral'), (5, 'altos'), (4, 'viudo')],\n",
    "#  [(2, 'dos o más'), (0, 'funcionario'), (4, 'divorciado')],\n",
    "#  [(2, 'dos o más'), (0, 'funcionario'), (1, 'dos o más'), (3, 'dos o más')],\n",
    "#  [(5, 'altos'), (0, 'laboral'), (4, 'casado')],\n",
    "#  [(2, 'dos o más'), (0, 'parado'), (3, 'dos o más'), (4, 'divorciado')],\n",
    "#  [(0, 'laboral'), (5, 'altos'), (2, 'una'), (3, 'uno')],\n",
    "#  [(3, 'ninguno'), (2, 'dos o más'), (4, 'casado'), (1, 'uno'), (5, 'bajos')],\n",
    "#  [(3, 'ninguno'), (0, 'parado'), (4, 'viudo'), (1, 'ninguno')],\n",
    "#  [(2, 'dos o más'), (0, 'parado'), (1, 'dos o más'), (3, 'ninguno')],\n",
    "#  [(3, 'ninguno'), (2, 'ninguna'), (4, 'viudo'), (0, 'parado')],\n",
    "#  [(1, 'uno'),(2, 'dos o más'),(3, 'dos o más'),(0, 'parado'),(4, 'soltero')],\n",
    "#  [(0, 'laboral'), (4, 'divorciado'), (2, 'ninguna'), (3, 'ninguno')]]"
   ]
  },
  {
   "cell_type": "markdown",
   "metadata": {},
   "source": [
    "# Parte 2"
   ]
  }
 ],
 "metadata": {
  "kernelspec": {
   "display_name": "Python 3",
   "language": "python",
   "name": "python3"
  },
  "language_info": {
   "codemirror_mode": {
    "name": "ipython",
    "version": 3
   },
   "file_extension": ".py",
   "mimetype": "text/x-python",
   "name": "python",
   "nbconvert_exporter": "python",
   "pygments_lexer": "ipython3",
   "version": "3.6.2"
  }
 },
 "nbformat": 4,
 "nbformat_minor": 2
}
