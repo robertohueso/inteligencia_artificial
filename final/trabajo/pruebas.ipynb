{
 "cells": [
  {
   "cell_type": "code",
   "execution_count": 1,
   "metadata": {},
   "outputs": [
    {
     "name": "stdout",
     "output_type": "stream",
     "text": [
      "------Sin pospoda------\n",
      " * Si (Clase = Tercera) y (Edad = Mayor) y Entonces Sobrevive = Si\n",
      " * Si (Edad = Menor) y (Clase = Segunda) y Entonces Sobrevive = Si\n",
      " * Si (Edad = Menor) y (Clase = Primera) y Entonces Sobrevive = Si\n",
      " * En caso contrario, Sobrevive = No\n",
      "Rendimiento = 0.38\n",
      "------Con pospoda------\n",
      "[0.98, 0.98, 0.98]\n",
      " * Si (Clase = Tercera) y (Edad = Mayor) y Entonces Sobrevive = Si\n",
      " * Si (Edad = Menor) y (Clase = Segunda) y Entonces Sobrevive = Si\n",
      " * Si (Edad = Menor) y (Clase = Primera) y Entonces Sobrevive = Si\n",
      " * En caso contrario, Sobrevive = No\n",
      "Rendimiento = 0.38\n"
     ]
    }
   ],
   "source": [
    "from reglas import *"
   ]
  },
  {
   "cell_type": "markdown",
   "metadata": {},
   "source": [
    "# Parte 1"
   ]
  },
  {
   "cell_type": "code",
   "execution_count": 2,
   "metadata": {},
   "outputs": [
    {
     "data": {
      "text/plain": [
       "[[(2, '+'), (3, 'Normal'), (1, 'Miope')],\n",
       " [(0, 'Joven'), (2, '+'), (3, 'Normal')]]"
      ]
     },
     "execution_count": 2,
     "metadata": {},
     "output_type": "execute_result"
    }
   ],
   "source": [
    "cobertura(lentes.entr,lentes.atributos,\"Rígida\")\n",
    "# [[(2, '+'), (3, 'Normal'), (1, 'Miope')],\n",
    "#  [(0, 'Joven'), (2, '+'), (3, 'Normal')]]\n",
    "\n",
    "\n",
    "#cobertura(lentes.entr,lentes.atributos,\"Blanda\")\n",
    "# [[(2, '-'), (3, 'Normal'), (1, 'Hipermétrope')],\n",
    "#  [(2, '-'), (3, 'Normal'), (0, 'Joven')],\n",
    "#  [(0, 'Prepresbicia'), (2, '-'), (3, 'Normal')]]\n",
    "\n",
    "#cobertura(jugar_tenis.entr,jugar_tenis.atributos,\"no\")\n",
    "# [[(0, 'Soleado'), (2, 'Alta')], \n",
    "#  [(0, 'Lluvia'), (3, 'Fuerte')]]\n",
    "\n",
    "#cobertura(credito.entr,credito.atributos,\"conceder\") \n",
    "# [[(0, 'funcionario'), (5, 'altos')],\n",
    "#  [(2, 'dos o más'), (5, 'medios')],\n",
    "#  [(0, 'laboral'), (5, 'altos'), (1, 'ninguno')],\n",
    "#  [(2, 'dos o más'), (0, 'funcionario'), (4, 'soltero')],\n",
    "#  [(2, 'dos o más'), (0, 'funcionario'), (1, 'uno')],\n",
    "#  [(0, 'laboral'), (5, 'altos'), (2, 'dos o más')],\n",
    "#  [(0, 'laboral'), (5, 'altos'), (3, 'dos o más')],\n",
    "#  [(2, 'dos o más'), (0, 'funcionario'), (3, 'uno')],\n",
    "#  [(0, 'laboral'), (5, 'altos'), (4, 'viudo')],\n",
    "#  [(2, 'dos o más'), (0, 'funcionario'), (4, 'divorciado')],\n",
    "#  [(2, 'dos o más'), (0, 'funcionario'), (1, 'dos o más'), (3, 'dos o más')],\n",
    "#  [(5, 'altos'), (0, 'laboral'), (4, 'casado')],\n",
    "#  [(2, 'dos o más'), (0, 'parado'), (3, 'dos o más'), (4, 'divorciado')],\n",
    "#  [(0, 'laboral'), (5, 'altos'), (2, 'una'), (3, 'uno')],\n",
    "#  [(3, 'ninguno'), (2, 'dos o más'), (4, 'casado'), (1, 'uno'), (5, 'bajos')],\n",
    "#  [(3, 'ninguno'), (0, 'parado'), (4, 'viudo'), (1, 'ninguno')],\n",
    "#  [(2, 'dos o más'), (0, 'parado'), (1, 'dos o más'), (3, 'ninguno')],\n",
    "#  [(3, 'ninguno'), (2, 'ninguna'), (4, 'viudo'), (0, 'parado')],\n",
    "#  [(1, 'uno'),(2, 'dos o más'),(3, 'dos o más'),(0, 'parado'),(4, 'soltero')],\n",
    "#  [(0, 'laboral'), (4, 'divorciado'), (2, 'ninguna'), (3, 'ninguno')]]"
   ]
  },
  {
   "cell_type": "markdown",
   "metadata": {},
   "source": [
    "# Parte 2"
   ]
  },
  {
   "cell_type": "code",
   "execution_count": 3,
   "metadata": {},
   "outputs": [
    {
     "name": "stdout",
     "output_type": "stream",
     "text": [
      " * Si (Cielo = Soleado) y (Humedad = Alta) y Entonces Jugar Tenis = no\n",
      " * Si (Cielo = Lluvia) y (Viento = Fuerte) y Entonces Jugar Tenis = no\n",
      " * En caso contrario, Jugar Tenis = si\n"
     ]
    },
    {
     "data": {
      "text/plain": [
       "1.0"
      ]
     },
     "execution_count": 3,
     "metadata": {},
     "output_type": "execute_result"
    }
   ],
   "source": [
    "jt_rd=reglas_decision_cobertura(jugar_tenis.entr,jugar_tenis.atributos,jugar_tenis.clases)\n",
    "imprime_RD(jt_rd,jugar_tenis.atributos,jugar_tenis.atributo_clasificación)\n",
    "\n",
    "# * Si (Cielo = Soleado) y (Humedad = Alta) Entonces [Jugar Tenis = no]\n",
    "# * Si (Cielo = Lluvia) y (Viento = Fuerte) Entonces [Jugar Tenis = no]\n",
    "# * En caso contrario, [Jugar Tenis = si]\n",
    "\n",
    "clasifica_RD(['Soleado' ,'Suave','Alta','Fuerte'],jt_rd)\n",
    "# 'no'\n",
    "rendimiento_RD(jt_rd,jugar_tenis.entr)\n",
    "# 1.0"
   ]
  },
  {
   "cell_type": "code",
   "execution_count": 4,
   "metadata": {},
   "outputs": [
    {
     "name": "stdout",
     "output_type": "stream",
     "text": [
      " * Si (Astigmatismo = +) y (Lagrima = Normal) y (Diagnóstico = Miope) y Entonces Lente = Rígida\n",
      " * Si (Edad = Joven) y (Astigmatismo = +) y (Lagrima = Normal) y Entonces Lente = Rígida\n",
      " * Si (Astigmatismo = -) y (Lagrima = Normal) y (Diagnóstico = Hipermétrope) y Entonces Lente = Blanda\n",
      " * Si (Astigmatismo = -) y (Lagrima = Normal) y (Edad = Joven) y Entonces Lente = Blanda\n",
      " * Si (Edad = Prepresbicia) y (Astigmatismo = -) y (Lagrima = Normal) y Entonces Lente = Blanda\n",
      " * En caso contrario, Lente = Ninguna\n"
     ]
    },
    {
     "data": {
      "text/plain": [
       "1.0"
      ]
     },
     "execution_count": 4,
     "metadata": {},
     "output_type": "execute_result"
    }
   ],
   "source": [
    "lentes_rd=reglas_decision_cobertura(lentes.entr,lentes.atributos,lentes.clases)\n",
    "imprime_RD(lentes_rd,lentes.atributos,lentes.atributo_clasificación)\n",
    "\n",
    "# * Si (Astigmatismo = +) y (Lagrima = Normal) y (Diagnóstico = Miope) Entonces [Lente = Rígida]\n",
    "# * Si (Edad = Joven) y (Astigmatismo = +) y (Lagrima = Normal) Entonces [Lente = Rígida]\n",
    "# * Si (Astigmatismo = -) y (Lagrima = Normal) y (Diagnóstico = Hipermétrope) Entonces [Lente = Blanda]\n",
    "# * Si (Astigmatismo = -) y (Lagrima = Normal) y (Edad = Joven) Entonces [Lente = Blanda]\n",
    "# * Si (Edad = Prepresbicia) y (Astigmatismo = -) y (Lagrima = Normal) Entonces [Lente = Blanda]\n",
    "# * En caso contrario, [Lente = Ninguna]\n",
    "\n",
    "clasifica_RD([\"Joven\",\"Hipermétrope\",\"-\",\"Normal\"],lentes_rd)\n",
    "# 'Blanda'\n",
    "clasifica_RD([\"Joven\",\"Hipermétrope\",\"-\",\"Reducida\"],lentes_rd)\n",
    "# 'Ninguna'\n",
    "rendimiento_RD(lentes_rd,lentes.entr)\n",
    "# 1.0"
   ]
  },
  {
   "cell_type": "code",
   "execution_count": 5,
   "metadata": {},
   "outputs": [
    {
     "name": "stdout",
     "output_type": "stream",
     "text": [
      " * Si (voto4 = s) y (voto7 = s) y Entonces Partido = republicano\n",
      " * Si (voto4 = s) y (voto2 = ?) y Entonces Partido = republicano\n",
      " * Si (voto4 = s) y (voto13 = n) y Entonces Partido = republicano\n",
      " * Si (voto4 = s) y (voto6 = n) y Entonces Partido = republicano\n",
      " * Si (voto4 = s) y (voto8 = ?) y Entonces Partido = republicano\n",
      " * Si (voto4 = s) y (voto14 = ?) y Entonces Partido = republicano\n",
      " * Si (voto4 = s) y (voto11 = ?) y Entonces Partido = republicano\n",
      " * Si (voto4 = s) y (voto15 = ?) y Entonces Partido = republicano\n",
      " * Si (voto4 = s) y (voto7 = ?) y Entonces Partido = republicano\n",
      " * Si (voto4 = s) y (voto14 = n) y Entonces Partido = republicano\n",
      " * Si (voto4 = s) y (voto3 = n) y (voto13 = s) y Entonces Partido = republicano\n",
      " * Si (voto4 = ?) y (voto9 = ?) y Entonces Partido = republicano\n",
      " * Si (voto3 = n) y (voto12 = ?) y Entonces Partido = republicano\n",
      " * Si (voto3 = n) y (voto6 = n) y (voto15 = n) y Entonces Partido = republicano\n",
      " * En caso contrario, Partido = demócrata\n"
     ]
    },
    {
     "data": {
      "text/plain": [
       "0.9195402298850575"
      ]
     },
     "execution_count": 5,
     "metadata": {},
     "output_type": "execute_result"
    }
   ],
   "source": [
    "votos_rd=reglas_decision_cobertura(votos.entr,votos.atributos,votos.clases)\n",
    "imprime_RD(votos_rd,votos.atributos,votos.atributo_clasificación)\n",
    "\n",
    "# * Si (voto4 = s) y (voto7 = s) Entonces [Partido = republicano]\n",
    "# * Si (voto4 = s) y (voto2 = ?) Entonces [Partido = republicano]\n",
    "# * Si (voto4 = s) y (voto13 = n) Entonces [Partido = republicano]\n",
    "# * Si (voto4 = s) y (voto6 = n) Entonces [Partido = republicano]\n",
    "# * Si (voto4 = s) y (voto8 = ?) Entonces [Partido = republicano]\n",
    "# * Si (voto4 = s) y (voto14 = ?) Entonces [Partido = republicano]\n",
    "# * Si (voto4 = s) y (voto11 = ?) Entonces [Partido = republicano]\n",
    "# * Si (voto4 = s) y (voto15 = ?) Entonces [Partido = republicano]\n",
    "# * Si (voto4 = s) y (voto7 = ?) Entonces [Partido = republicano]\n",
    "# * Si (voto4 = s) y (voto14 = n) Entonces [Partido = republicano]\n",
    "# * Si (voto4 = s) y (voto3 = n) y (voto13 = s) Entonces [Partido = republicano]\n",
    "# * Si (voto4 = ?) y (voto9 = ?) Entonces [Partido = republicano]\n",
    "# * Si (voto3 = n) y (voto12 = ?) Entonces [Partido = republicano]\n",
    "# * Si (voto3 = n) y (voto6 = n) y (voto15 = n) Entonces [Partido = republicano]\n",
    "# * En caso contrario, [Partido = demócrata]\n",
    "\n",
    "clasifica_RD(votos.test[23],votos_rd)\n",
    "# 'demócrata'\n",
    "rendimiento_RD(votos_rd,votos.entr)\n",
    "# 1.0\n",
    "rendimiento_RD(votos_rd,votos.valid)\n",
    "# 0.9565217391304348\n",
    "rendimiento_RD(votos_rd,votos.test)\n",
    "# 0.9195402298850575"
   ]
  },
  {
   "cell_type": "code",
   "execution_count": 6,
   "metadata": {},
   "outputs": [
    {
     "name": "stdout",
     "output_type": "stream",
     "text": [
      " * Si (Empleo = funcionario) y (Ingresos = altos) y Entonces Crédito = conceder\n",
      " * Si (Propiedades = dos o más) y (Ingresos = medios) y Entonces Crédito = conceder\n",
      " * Si (Empleo = laboral) y (Ingresos = altos) y (Productos = ninguno) y Entonces Crédito = conceder\n",
      " * Si (Propiedades = dos o más) y (Empleo = funcionario) y (Estado civil = soltero) y Entonces Crédito = conceder\n",
      " * Si (Propiedades = dos o más) y (Empleo = funcionario) y (Productos = uno) y Entonces Crédito = conceder\n",
      " * Si (Empleo = laboral) y (Ingresos = altos) y (Propiedades = dos o más) y Entonces Crédito = conceder\n",
      " * Si (Empleo = laboral) y (Ingresos = altos) y (Hijos = dos o más) y Entonces Crédito = conceder\n",
      " * Si (Propiedades = dos o más) y (Empleo = funcionario) y (Hijos = uno) y Entonces Crédito = conceder\n",
      " * Si (Empleo = laboral) y (Ingresos = altos) y (Estado civil = viudo) y Entonces Crédito = conceder\n",
      " * Si (Propiedades = dos o más) y (Empleo = funcionario) y (Estado civil = divorciado) y Entonces Crédito = conceder\n",
      " * Si (Propiedades = dos o más) y (Empleo = funcionario) y (Productos = dos o más) y (Hijos = dos o más) y Entonces Crédito = conceder\n",
      " * Si (Ingresos = altos) y (Empleo = laboral) y (Estado civil = casado) y Entonces Crédito = conceder\n",
      " * Si (Propiedades = dos o más) y (Empleo = parado) y (Hijos = dos o más) y (Estado civil = divorciado) y Entonces Crédito = conceder\n",
      " * Si (Empleo = laboral) y (Ingresos = altos) y (Propiedades = una) y (Hijos = uno) y Entonces Crédito = conceder\n",
      " * Si (Hijos = ninguno) y (Propiedades = dos o más) y (Estado civil = casado) y (Productos = uno) y (Ingresos = bajos) y Entonces Crédito = conceder\n",
      " * Si (Hijos = ninguno) y (Empleo = parado) y (Estado civil = viudo) y (Productos = ninguno) y Entonces Crédito = conceder\n",
      " * Si (Propiedades = dos o más) y (Empleo = parado) y (Productos = dos o más) y (Hijos = ninguno) y Entonces Crédito = conceder\n",
      " * Si (Hijos = ninguno) y (Propiedades = ninguna) y (Estado civil = viudo) y (Empleo = parado) y Entonces Crédito = conceder\n",
      " * Si (Productos = uno) y (Propiedades = dos o más) y (Hijos = dos o más) y (Empleo = parado) y (Estado civil = soltero) y Entonces Crédito = conceder\n",
      " * Si (Empleo = laboral) y (Estado civil = divorciado) y (Propiedades = ninguna) y (Hijos = ninguno) y Entonces Crédito = conceder\n",
      " * Si (Ingresos = bajos) y (Empleo = parado) y (Propiedades = una) y Entonces Crédito = no conceder\n",
      " * Si (Ingresos = bajos) y (Empleo = jubilado) y (Propiedades = ninguna) y Entonces Crédito = no conceder\n",
      " * Si (Ingresos = bajos) y (Propiedades = ninguna) y (Empleo = funcionario) y Entonces Crédito = no conceder\n",
      " * Si (Ingresos = bajos) y (Empleo = parado) y (Productos = ninguno) y Entonces Crédito = no conceder\n",
      " * Si (Ingresos = bajos) y (Empleo = jubilado) y (Productos = dos o más) y Entonces Crédito = no conceder\n",
      " * Si (Ingresos = bajos) y (Empleo = parado) y (Hijos = ninguno) y Entonces Crédito = no conceder\n",
      " * Si (Ingresos = bajos) y (Empleo = laboral) y (Productos = uno) y Entonces Crédito = no conceder\n",
      " * Si (Ingresos = bajos) y (Empleo = parado) y (Estado civil = viudo) y Entonces Crédito = no conceder\n",
      " * Si (Ingresos = bajos) y (Empleo = jubilado) y (Propiedades = una) y Entonces Crédito = no conceder\n",
      " * Si (Ingresos = bajos) y (Propiedades = ninguna) y (Productos = ninguno) y Entonces Crédito = no conceder\n",
      " * Si (Ingresos = bajos) y (Empleo = parado) y (Productos = uno) y (Propiedades = ninguna) y Entonces Crédito = no conceder\n",
      " * Si (Ingresos = medios) y (Propiedades = ninguna) y (Empleo = jubilado) y Entonces Crédito = no conceder\n",
      " * Si (Ingresos = bajos) y (Empleo = jubilado) y (Hijos = uno) y Entonces Crédito = no conceder\n",
      " * Si (Empleo = parado) y (Ingresos = medios) y (Propiedades = ninguna) y (Productos = dos o más) y Entonces Crédito = no conceder\n",
      " * Si (Ingresos = bajos) y (Estado civil = divorciado) y (Propiedades = ninguna) y Entonces Crédito = no conceder\n",
      " * Si (Ingresos = bajos) y (Estado civil = divorciado) y (Empleo = laboral) y (Productos = ninguno) y Entonces Crédito = no conceder\n",
      " * Si (Ingresos = medios) y (Empleo = parado) y (Propiedades = ninguna) y (Productos = uno) y Entonces Crédito = no conceder\n",
      " * Si (Ingresos = bajos) y (Empleo = jubilado) y (Estado civil = soltero) y Entonces Crédito = no conceder\n",
      " * Si (Ingresos = medios) y (Productos = ninguno) y (Propiedades = una) y (Estado civil = soltero) y Entonces Crédito = no conceder\n",
      " * Si (Ingresos = bajos) y (Empleo = jubilado) y (Estado civil = divorciado) y (Productos = ninguno) y Entonces Crédito = no conceder\n",
      " * Si (Ingresos = bajos) y (Empleo = laboral) y (Productos = ninguno) y Entonces Crédito = no conceder\n",
      " * Si (Ingresos = medios) y (Empleo = parado) y (Propiedades = ninguna) y (Hijos = uno) y Entonces Crédito = no conceder\n",
      " * Si (Ingresos = medios) y (Hijos = dos o más) y (Propiedades = una) y (Productos = dos o más) y Entonces Crédito = no conceder\n",
      " * Si (Empleo = parado) y (Ingresos = bajos) y (Productos = uno) y (Hijos = uno) y Entonces Crédito = no conceder\n",
      " * Si (Empleo = parado) y (Ingresos = medios) y (Productos = ninguno) y (Hijos = uno) y Entonces Crédito = no conceder\n",
      " * Si (Ingresos = medios) y (Empleo = parado) y (Productos = ninguno) y (Estado civil = soltero) y Entonces Crédito = no conceder\n",
      " * Si (Ingresos = medios) y (Hijos = dos o más) y (Propiedades = una) y (Empleo = parado) y Entonces Crédito = no conceder\n",
      " * Si (Empleo = jubilado) y (Ingresos = bajos) y (Estado civil = divorciado) y (Hijos = ninguno) y Entonces Crédito = no conceder\n",
      " * Si (Ingresos = medios) y (Propiedades = ninguna) y (Empleo = parado) y (Estado civil = divorciado) y Entonces Crédito = no conceder\n",
      " * Si (Ingresos = medios) y (Empleo = jubilado) y (Productos = dos o más) y (Propiedades = una) y Entonces Crédito = no conceder\n",
      " * Si (Empleo = laboral) y (Hijos = dos o más) y (Propiedades = ninguna) y (Ingresos = medios) y (Productos = uno) y Entonces Crédito = no conceder\n",
      " * En caso contrario, Crédito = estudiar\n"
     ]
    },
    {
     "data": {
      "text/plain": [
       "0.8895705521472392"
      ]
     },
     "execution_count": 6,
     "metadata": {},
     "output_type": "execute_result"
    }
   ],
   "source": [
    "credito_rd=reglas_decision_cobertura(credito.entr,credito.atributos,credito.clases)\n",
    "imprime_RD(credito_rd,credito.atributos,credito.atributo_clasificación)\n",
    "\n",
    "# * Si (Empleo = funcionario) y (Ingresos = altos) Entonces [Crédito = conceder]\n",
    "# * Si (Propiedades = dos o más) y (Ingresos = medios) Entonces [Crédito = conceder]\n",
    "# * Si (Empleo = laboral) y (Ingresos = altos) y (Productos = ninguno) Entonces [Crédito = conceder]\n",
    "# * Si (Propiedades = dos o más) y (Empleo = funcionario) y (Estado civil = soltero) Entonces [Crédito = conceder]\n",
    "# * Si (Propiedades = dos o más) y (Empleo = funcionario) y (Productos = uno) Entonces [Crédito = conceder]\n",
    "# * Si (Empleo = laboral) y (Ingresos = altos) y (Propiedades = dos o más) Entonces [Crédito = conceder]\n",
    "# * Si (Empleo = laboral) y (Ingresos = altos) y (Hijos = dos o más) Entonces [Crédito = conceder]\n",
    "# * Si (Propiedades = dos o más) y (Empleo = funcionario) y (Hijos = uno) Entonces [Crédito = conceder]\n",
    "# * Si (Empleo = laboral) y (Ingresos = altos) y (Estado civil = viudo) Entonces [Crédito = conceder]\n",
    "# * Si (Propiedades = dos o más) y (Empleo = funcionario) y (Estado civil = divorciado) Entonces [Crédito = conceder]\n",
    "# * Si (Propiedades = dos o más) y (Empleo = funcionario) y (Productos = dos o más) y (Hijos = dos o más) Entonces [Crédito = conceder]\n",
    "# * Si (Ingresos = altos) y (Empleo = laboral) y (Estado civil = casado) Entonces [Crédito = conceder]\n",
    "# * Si (Propiedades = dos o más) y (Empleo = parado) y (Hijos = dos o más) y (Estado civil = divorciado) Entonces [Crédito = conceder]\n",
    "# * Si (Empleo = laboral) y (Ingresos = altos) y (Propiedades = una) y (Hijos = uno) Entonces [Crédito = conceder]\n",
    "# * Si (Hijos = ninguno) y (Propiedades = dos o más) y (Estado civil = casado) y (Productos = uno) y (Ingresos = bajos) Entonces [Crédito = conceder]\n",
    "# * Si (Hijos = ninguno) y (Empleo = parado) y (Estado civil = viudo) y (Productos = ninguno) Entonces [Crédito = conceder]\n",
    "# * Si (Propiedades = dos o más) y (Empleo = parado) y (Productos = dos o más) y (Hijos = ninguno) Entonces [Crédito = conceder]\n",
    "# * Si (Hijos = ninguno) y (Propiedades = ninguna) y (Estado civil = viudo) y (Empleo = parado) Entonces [Crédito = conceder]\n",
    "# * Si (Productos = uno) y (Propiedades = dos o más) y (Hijos = dos o más) y (Empleo = parado) y (Estado civil = soltero) Entonces [Crédito = conceder]\n",
    "# * Si (Empleo = laboral) y (Estado civil = divorciado) y (Propiedades = ninguna) y (Hijos = ninguno) Entonces [Crédito = conceder]\n",
    "# * Si (Ingresos = bajos) y (Empleo = parado) y (Propiedades = una) Entonces [Crédito = no conceder]\n",
    "# * Si (Ingresos = bajos) y (Empleo = jubilado) y (Propiedades = ninguna) Entonces [Crédito = no conceder]\n",
    "# * Si (Ingresos = bajos) y (Propiedades = ninguna) y (Empleo = funcionario) Entonces [Crédito = no conceder]\n",
    "# * Si (Ingresos = bajos) y (Empleo = parado) y (Productos = ninguno) Entonces [Crédito = no conceder]\n",
    "# * Si (Ingresos = bajos) y (Empleo = jubilado) y (Productos = dos o más) Entonces [Crédito = no conceder]\n",
    "# * Si (Ingresos = bajos) y (Empleo = parado) y (Hijos = ninguno) Entonces [Crédito = no conceder]\n",
    "# * Si (Ingresos = bajos) y (Empleo = laboral) y (Productos = uno) Entonces [Crédito = no conceder]\n",
    "# * Si (Ingresos = bajos) y (Empleo = parado) y (Estado civil = viudo) Entonces [Crédito = no conceder]\n",
    "# * Si (Ingresos = bajos) y (Empleo = jubilado) y (Propiedades = una) Entonces [Crédito = no conceder]\n",
    "# * Si (Ingresos = bajos) y (Propiedades = ninguna) y (Productos = ninguno) Entonces [Crédito = no conceder]\n",
    "# * Si (Ingresos = bajos) y (Empleo = parado) y (Productos = uno) y (Propiedades = ninguna) Entonces [Crédito = no conceder]\n",
    "# * Si (Ingresos = medios) y (Propiedades = ninguna) y (Empleo = jubilado) Entonces [Crédito = no conceder]\n",
    "# * Si (Ingresos = bajos) y (Empleo = jubilado) y (Hijos = uno) Entonces [Crédito = no conceder]\n",
    "# * Si (Empleo = parado) y (Ingresos = medios) y (Propiedades = ninguna) y (Productos = dos o más) Entonces [Crédito = no conceder]\n",
    "# * Si (Ingresos = bajos) y (Estado civil = divorciado) y (Propiedades = ninguna) Entonces [Crédito = no conceder]\n",
    "# * Si (Ingresos = bajos) y (Estado civil = divorciado) y (Empleo = laboral) y (Productos = ninguno) Entonces [Crédito = no conceder]\n",
    "# * Si (Ingresos = medios) y (Empleo = parado) y (Propiedades = ninguna) y (Productos = uno) Entonces [Crédito = no conceder]\n",
    "# * Si (Ingresos = bajos) y (Empleo = jubilado) y (Estado civil = soltero) Entonces [Crédito = no conceder]\n",
    "# * Si (Ingresos = medios) y (Productos = ninguno) y (Propiedades = una) y (Estado civil = soltero) Entonces [Crédito = no conceder]\n",
    "# * Si (Ingresos = bajos) y (Empleo = jubilado) y (Estado civil = divorciado) y (Productos = ninguno) Entonces [Crédito = no conceder]\n",
    "# * Si (Ingresos = bajos) y (Empleo = laboral) y (Productos = ninguno) Entonces [Crédito = no conceder]\n",
    "# * Si (Ingresos = medios) y (Empleo = parado) y (Propiedades = ninguna) y (Hijos = uno) Entonces [Crédito = no conceder]\n",
    "# * Si (Ingresos = medios) y (Hijos = dos o más) y (Propiedades = una) y (Productos = dos o más) Entonces [Crédito = no conceder]\n",
    "# * Si (Empleo = parado) y (Ingresos = bajos) y (Productos = uno) y (Hijos = uno) Entonces [Crédito = no conceder]\n",
    "# * Si (Empleo = parado) y (Ingresos = medios) y (Productos = ninguno) y (Hijos = uno) Entonces [Crédito = no conceder]\n",
    "# * Si (Ingresos = medios) y (Empleo = parado) y (Productos = ninguno) y (Estado civil = soltero) Entonces [Crédito = no conceder]\n",
    "# * Si (Ingresos = medios) y (Hijos = dos o más) y (Propiedades = una) y (Empleo = parado) Entonces [Crédito = no conceder]\n",
    "# * Si (Empleo = jubilado) y (Ingresos = bajos) y (Estado civil = divorciado) y (Hijos = ninguno) Entonces [Crédito = no conceder]\n",
    "# * Si (Ingresos = medios) y (Propiedades = ninguna) y (Empleo = parado) y (Estado civil = divorciado) Entonces [Crédito = no conceder]\n",
    "# * Si (Ingresos = medios) y (Empleo = jubilado) y (Productos = dos o más) y (Propiedades = una) Entonces [Crédito = no conceder]\n",
    "# * Si (Empleo = laboral) y (Hijos = dos o más) y (Propiedades = ninguna) y (Ingresos = medios) y (Productos = uno) Entonces [Crédito = no conceder]\n",
    "# * En caso contrario, [Crédito = estudiar]\n",
    "\n",
    "clasifica_RD(credito.test[44],credito_rd)\n",
    "# 'estudiar'\n",
    "clasifica_RD(credito.test[11],credito_rd)\n",
    "# 'conceder'\n",
    "\n",
    "rendimiento_RD(credito_rd,credito.entr)\n",
    "# 1.0\n",
    "rendimiento_RD(credito_rd,credito.valid)\n",
    "# 0.8950617283950617\n",
    "rendimiento_RD(credito_rd,credito.test)\n",
    "# 0.8895705521472392\n"
   ]
  },
  {
   "cell_type": "markdown",
   "metadata": {},
   "source": [
    "# Parte 3"
   ]
  },
  {
   "cell_type": "code",
   "execution_count": 7,
   "metadata": {},
   "outputs": [
    {
     "name": "stdout",
     "output_type": "stream",
     "text": [
      "[0.8840579710144928, 0.927536231884058, 0.927536231884058, 0.9565217391304348, 0.9565217391304348, 0.9855072463768116, 0.9855072463768116, 0.9855072463768116, 0.9855072463768116, 0.9855072463768116, 0.9855072463768116, 0.9855072463768116, 0.9855072463768116, 0.9855072463768116]\n",
      "[0.9130434782608695, 0.9565217391304348, 0.9565217391304348, 0.9855072463768116, 0.9855072463768116, 0.9855072463768116, 0.9855072463768116, 0.9855072463768116, 0.9855072463768116, 0.9855072463768116, 0.9855072463768116, 0.9855072463768116, 0.9855072463768116]\n",
      " * Si (voto4 = s) y (voto7 = s) y Entonces Partido = republicano\n",
      " * Si (voto4 = s) y (voto2 = ?) y Entonces Partido = republicano\n",
      " * Si (voto4 = s) y (voto13 = n) y Entonces Partido = republicano\n",
      " * Si (voto4 = s) y (voto6 = n) y Entonces Partido = republicano\n",
      " * Si (voto4 = s) y (voto8 = ?) y Entonces Partido = republicano\n",
      " * Si (voto4 = s) y (voto14 = ?) y Entonces Partido = republicano\n",
      " * Si (voto4 = s) y (voto11 = ?) y Entonces Partido = republicano\n",
      " * Si (voto4 = s) y (voto15 = ?) y Entonces Partido = republicano\n",
      " * Si (voto4 = s) y (voto7 = ?) y Entonces Partido = republicano\n",
      " * Si (voto4 = s) y Entonces Partido = republicano\n",
      " * Si (voto4 = s) y (voto3 = n) y (voto13 = s) y Entonces Partido = republicano\n",
      " * Si (voto4 = ?) y (voto9 = ?) y Entonces Partido = republicano\n",
      " * Si (voto3 = n) y (voto12 = ?) y Entonces Partido = republicano\n",
      " * Si (voto3 = n) y (voto6 = n) y (voto15 = n) y Entonces Partido = republicano\n",
      " * En caso contrario, Partido = demócrata\n",
      "0.978494623655914\n",
      "0.9855072463768116\n",
      "0.9080459770114943\n"
     ]
    }
   ],
   "source": [
    "votos_rd_pd=poda_RD(votos_rd,votos.valid)\n",
    "imprime_RD(votos_rd_pd,votos.atributos,votos.atributo_clasificación)\n",
    "\n",
    "# * Si (voto4 = s) Entonces [Partido = republicano]\n",
    "# * En caso contrario, [Partido = demócrata]\n",
    "\n",
    "print(rendimiento_RD(votos_rd_pd,votos.entr))\n",
    "# 0.96415770609319\n",
    "print(rendimiento_RD(votos_rd_pd,votos.valid))\n",
    "# 0.9855072463768116\n",
    "print(rendimiento_RD(votos_rd_pd,votos.test))\n",
    "# 0.9080459770114943"
   ]
  },
  {
   "cell_type": "code",
   "execution_count": 8,
   "metadata": {},
   "outputs": [
    {
     "name": "stdout",
     "output_type": "stream",
     "text": [
      "[0.7592592592592593, 0.7839506172839507, 0.8395061728395061, 0.8765432098765432, 0.8765432098765432, 0.8765432098765432, 0.8827160493827161, 0.8827160493827161, 0.8827160493827161, 0.8888888888888888, 0.8888888888888888, 0.8888888888888888, 0.8888888888888888, 0.8888888888888888, 0.8950617283950617, 0.8950617283950617, 0.8950617283950617, 0.8950617283950617, 0.8950617283950617, 0.8950617283950617, 0.8950617283950617, 0.8950617283950617, 0.8950617283950617, 0.8950617283950617, 0.8950617283950617, 0.8950617283950617, 0.8950617283950617, 0.8950617283950617, 0.8950617283950617, 0.8950617283950617, 0.8950617283950617, 0.8950617283950617, 0.8950617283950617, 0.8950617283950617, 0.8950617283950617, 0.8950617283950617, 0.9012345679012346, 0.9012345679012346, 0.9012345679012346, 0.9012345679012346, 0.9012345679012346, 0.9012345679012346, 0.9012345679012346, 0.9012345679012346, 0.9012345679012346, 0.9012345679012346, 0.9074074074074074, 0.9074074074074074, 0.9074074074074074, 0.9074074074074074, 0.9074074074074074, 0.9074074074074074]\n",
      "[0.7901234567901234, 0.8209876543209876, 0.8765432098765432, 0.9135802469135802, 0.9135802469135802, 0.9135802469135802, 0.9197530864197531, 0.9197530864197531, 0.9197530864197531, 0.9259259259259259, 0.9259259259259259, 0.9259259259259259, 0.9259259259259259, 0.9259259259259259, 0.9259259259259259, 0.9259259259259259, 0.9259259259259259, 0.9320987654320988, 0.9320987654320988, 0.9320987654320988, 0.9320987654320988, 0.9320987654320988, 0.9320987654320988, 0.9320987654320988, 0.9320987654320988, 0.9320987654320988, 0.9320987654320988, 0.9320987654320988, 0.9320987654320988, 0.9320987654320988, 0.9320987654320988, 0.9320987654320988, 0.9320987654320988, 0.9320987654320988, 0.9320987654320988, 0.9320987654320988, 0.9320987654320988, 0.9320987654320988, 0.9320987654320988, 0.9320987654320988, 0.9320987654320988, 0.9382716049382716, 0.9382716049382716, 0.9382716049382716, 0.9382716049382716, 0.9382716049382716, 0.9382716049382716, 0.9444444444444444, 0.9444444444444444, 0.9444444444444444, 0.9444444444444444, 0.9444444444444444]\n",
      "[0.8024691358024691, 0.8333333333333334, 0.8827160493827161, 0.9259259259259259, 0.9259259259259259, 0.9259259259259259, 0.9320987654320988, 0.9320987654320988, 0.9320987654320988, 0.9320987654320988, 0.9382716049382716, 0.9382716049382716, 0.9382716049382716, 0.9382716049382716, 0.9382716049382716, 0.9382716049382716, 0.9382716049382716, 0.9444444444444444, 0.9444444444444444, 0.9444444444444444, 0.9444444444444444, 0.9444444444444444, 0.9444444444444444, 0.9444444444444444, 0.9444444444444444, 0.9444444444444444, 0.9444444444444444, 0.9444444444444444, 0.9444444444444444, 0.9444444444444444, 0.9444444444444444, 0.9444444444444444, 0.9444444444444444, 0.9444444444444444, 0.9444444444444444, 0.9444444444444444, 0.9444444444444444, 0.9444444444444444, 0.9444444444444444, 0.9444444444444444, 0.9444444444444444, 0.9506172839506173, 0.9506172839506173, 0.9506172839506173, 0.9506172839506173, 0.9506172839506173, 0.9506172839506173, 0.9567901234567902, 0.9567901234567902, 0.9567901234567902, 0.9567901234567902]\n",
      "[0.8148148148148148, 0.8148148148148148, 0.845679012345679, 0.8950617283950617, 0.9382716049382716, 0.9382716049382716, 0.9382716049382716, 0.9444444444444444, 0.9444444444444444, 0.9444444444444444, 0.9444444444444444, 0.9506172839506173, 0.9506172839506173, 0.9506172839506173, 0.9506172839506173, 0.9506172839506173, 0.9506172839506173, 0.9506172839506173, 0.9567901234567902, 0.9567901234567902, 0.9567901234567902, 0.9567901234567902, 0.9567901234567902, 0.9567901234567902, 0.9567901234567902, 0.9567901234567902, 0.9567901234567902, 0.9567901234567902, 0.9567901234567902, 0.9567901234567902, 0.9567901234567902, 0.9567901234567902, 0.9567901234567902, 0.9567901234567902, 0.9567901234567902, 0.9567901234567902, 0.9567901234567902, 0.9567901234567902, 0.9567901234567902, 0.9567901234567902, 0.9567901234567902, 0.9567901234567902, 0.9567901234567902, 0.9567901234567902, 0.9567901234567902, 0.9567901234567902, 0.9567901234567902, 0.9629629629629629, 0.9629629629629629, 0.9629629629629629, 0.9629629629629629]\n",
      "[0.8209876543209876, 0.8209876543209876, 0.845679012345679, 0.9012345679012346, 0.9074074074074074, 0.9444444444444444, 0.9444444444444444, 0.9444444444444444, 0.9506172839506173, 0.9506172839506173, 0.9506172839506173, 0.9506172839506173, 0.9567901234567902, 0.9567901234567902, 0.9567901234567902, 0.9567901234567902, 0.9567901234567902, 0.9567901234567902, 0.9567901234567902, 0.9629629629629629, 0.9629629629629629, 0.9629629629629629, 0.9629629629629629, 0.9629629629629629, 0.9629629629629629, 0.9629629629629629, 0.9629629629629629, 0.9629629629629629, 0.9629629629629629, 0.9629629629629629, 0.9629629629629629, 0.9629629629629629, 0.9629629629629629, 0.9629629629629629, 0.9629629629629629, 0.9629629629629629, 0.9629629629629629, 0.9629629629629629, 0.9629629629629629, 0.9629629629629629, 0.9629629629629629, 0.9629629629629629, 0.9629629629629629, 0.9629629629629629, 0.9629629629629629, 0.9629629629629629, 0.9629629629629629, 0.9629629629629629, 0.9629629629629629, 0.9629629629629629, 0.9629629629629629]\n",
      " * Si (Empleo = funcionario) y (Ingresos = altos) y Entonces Crédito = conceder\n",
      " * Si (Propiedades = dos o más) y (Ingresos = medios) y Entonces Crédito = conceder\n",
      " * Si (Empleo = laboral) y (Ingresos = altos) y (Productos = ninguno) y Entonces Crédito = conceder\n",
      " * Si (Propiedades = dos o más) y (Empleo = funcionario) y (Estado civil = soltero) y Entonces Crédito = conceder\n",
      " * Si (Propiedades = dos o más) y (Empleo = funcionario) y (Productos = uno) y Entonces Crédito = conceder\n",
      " * Si (Empleo = laboral) y (Ingresos = altos) y (Propiedades = dos o más) y Entonces Crédito = conceder\n",
      " * Si (Empleo = laboral) y (Ingresos = altos) y (Hijos = dos o más) y Entonces Crédito = conceder\n",
      " * Si (Propiedades = dos o más) y (Empleo = funcionario) y (Hijos = uno) y Entonces Crédito = conceder\n",
      " * Si (Empleo = laboral) y (Ingresos = altos) y (Estado civil = viudo) y Entonces Crédito = conceder\n",
      " * Si (Propiedades = dos o más) y (Empleo = funcionario) y (Estado civil = divorciado) y Entonces Crédito = conceder\n",
      " * Si (Propiedades = dos o más) y (Empleo = funcionario) y (Productos = dos o más) y (Hijos = dos o más) y Entonces Crédito = conceder\n",
      " * Si (Ingresos = altos) y (Empleo = laboral) y Entonces Crédito = conceder\n",
      " * Si (Propiedades = dos o más) y (Empleo = parado) y (Hijos = dos o más) y (Estado civil = divorciado) y Entonces Crédito = conceder\n",
      " * Si (Empleo = laboral) y (Ingresos = altos) y (Propiedades = una) y (Hijos = uno) y Entonces Crédito = conceder\n",
      " * Si (Hijos = ninguno) y (Propiedades = dos o más) y (Estado civil = casado) y (Productos = uno) y (Ingresos = bajos) y Entonces Crédito = conceder\n",
      " * Si (Hijos = ninguno) y (Empleo = parado) y (Estado civil = viudo) y (Productos = ninguno) y Entonces Crédito = conceder\n",
      " * Si (Propiedades = dos o más) y (Empleo = parado) y (Productos = dos o más) y (Hijos = ninguno) y Entonces Crédito = conceder\n",
      " * Si (Hijos = ninguno) y (Propiedades = ninguna) y (Estado civil = viudo) y (Empleo = parado) y Entonces Crédito = conceder\n",
      " * Si (Productos = uno) y (Propiedades = dos o más) y (Hijos = dos o más) y (Empleo = parado) y (Estado civil = soltero) y Entonces Crédito = conceder\n",
      " * Si (Ingresos = bajos) y (Empleo = parado) y (Propiedades = una) y Entonces Crédito = no conceder\n",
      " * Si (Ingresos = bajos) y (Empleo = jubilado) y (Propiedades = ninguna) y Entonces Crédito = no conceder\n",
      " * Si (Ingresos = bajos) y (Propiedades = ninguna) y (Empleo = funcionario) y Entonces Crédito = no conceder\n",
      " * Si (Ingresos = bajos) y (Empleo = parado) y (Productos = ninguno) y Entonces Crédito = no conceder\n",
      " * Si (Ingresos = bajos) y (Empleo = jubilado) y (Productos = dos o más) y Entonces Crédito = no conceder\n",
      " * Si (Ingresos = bajos) y (Empleo = parado) y (Hijos = ninguno) y Entonces Crédito = no conceder\n",
      " * Si (Ingresos = bajos) y (Empleo = laboral) y (Productos = uno) y Entonces Crédito = no conceder\n",
      " * Si (Ingresos = bajos) y (Empleo = parado) y (Estado civil = viudo) y Entonces Crédito = no conceder\n",
      " * Si (Ingresos = bajos) y (Empleo = jubilado) y (Propiedades = una) y Entonces Crédito = no conceder\n",
      " * Si (Ingresos = bajos) y (Propiedades = ninguna) y (Productos = ninguno) y Entonces Crédito = no conceder\n",
      " * Si (Ingresos = bajos) y (Empleo = parado) y (Productos = uno) y (Propiedades = ninguna) y Entonces Crédito = no conceder\n",
      " * Si (Ingresos = medios) y (Propiedades = ninguna) y (Empleo = jubilado) y Entonces Crédito = no conceder\n",
      " * Si (Ingresos = bajos) y (Empleo = jubilado) y (Hijos = uno) y Entonces Crédito = no conceder\n",
      " * Si (Empleo = parado) y (Ingresos = medios) y (Propiedades = ninguna) y (Productos = dos o más) y Entonces Crédito = no conceder\n",
      " * Si (Ingresos = bajos) y (Estado civil = divorciado) y (Propiedades = ninguna) y Entonces Crédito = no conceder\n",
      " * Si (Ingresos = bajos) y (Estado civil = divorciado) y (Empleo = laboral) y (Productos = ninguno) y Entonces Crédito = no conceder\n",
      " * Si (Ingresos = medios) y (Empleo = parado) y (Propiedades = ninguna) y (Productos = uno) y Entonces Crédito = no conceder\n",
      " * Si (Ingresos = bajos) y (Empleo = jubilado) y Entonces Crédito = no conceder\n",
      " * Si (Ingresos = medios) y (Productos = ninguno) y (Propiedades = una) y Entonces Crédito = no conceder\n",
      " * Si (Ingresos = bajos) y (Empleo = jubilado) y (Estado civil = divorciado) y (Productos = ninguno) y Entonces Crédito = no conceder\n",
      " * Si (Ingresos = bajos) y (Empleo = laboral) y (Productos = ninguno) y Entonces Crédito = no conceder\n",
      " * Si (Ingresos = medios) y (Empleo = parado) y (Propiedades = ninguna) y (Hijos = uno) y Entonces Crédito = no conceder\n",
      " * Si (Ingresos = medios) y (Hijos = dos o más) y (Propiedades = una) y (Productos = dos o más) y Entonces Crédito = no conceder\n",
      " * Si (Empleo = parado) y (Ingresos = bajos) y (Productos = uno) y (Hijos = uno) y Entonces Crédito = no conceder\n",
      " * Si (Empleo = parado) y (Ingresos = medios) y (Productos = ninguno) y (Hijos = uno) y Entonces Crédito = no conceder\n",
      " * Si (Ingresos = medios) y (Empleo = parado) y (Productos = ninguno) y (Estado civil = soltero) y Entonces Crédito = no conceder\n",
      " * Si (Ingresos = medios) y (Hijos = dos o más) y (Propiedades = una) y (Empleo = parado) y Entonces Crédito = no conceder\n",
      " * Si (Empleo = jubilado) y (Ingresos = bajos) y (Estado civil = divorciado) y (Hijos = ninguno) y Entonces Crédito = no conceder\n",
      " * Si (Ingresos = medios) y (Propiedades = ninguna) y (Empleo = parado) y (Estado civil = divorciado) y Entonces Crédito = no conceder\n",
      " * Si (Ingresos = medios) y (Empleo = jubilado) y (Productos = dos o más) y (Propiedades = una) y Entonces Crédito = no conceder\n",
      " * Si (Empleo = laboral) y (Hijos = dos o más) y (Propiedades = ninguna) y (Ingresos = medios) y (Productos = uno) y Entonces Crédito = no conceder\n",
      " * En caso contrario, Crédito = estudiar\n",
      "0.9784615384615385\n",
      "0.9629629629629629\n",
      "0.9325153374233128\n"
     ]
    }
   ],
   "source": [
    "credito_rd_pd=poda_RD(credito_rd,credito.valid)\n",
    "imprime_RD(credito_rd_pd,credito.atributos,credito.atributo_clasificación)\n",
    "\n",
    "# * Si (Empleo = funcionario) y (Ingresos = altos) Entonces [Crédito = conceder]\n",
    "# * Si (Propiedades = dos o más) y (Ingresos = medios) Entonces [Crédito = conceder]\n",
    "# * Si (Empleo = laboral) y (Ingresos = altos) Entonces [Crédito = conceder]\n",
    "# * Si (Propiedades = dos o más) y (Empleo = funcionario) Entonces [Crédito = conceder]\n",
    "# * Si (Ingresos = bajos) y (Empleo = parado) Entonces [Crédito = no conceder]\n",
    "# * Si (Ingresos = bajos) y (Empleo = jubilado) Entonces [Crédito = no conceder]\n",
    "# * Si (Ingresos = bajos) y (Propiedades = ninguna) y (Empleo = funcionario) Entonces [Crédito = no conceder]\n",
    "# * Si (Ingresos = bajos) y (Empleo = parado) Entonces [Crédito = no conceder]\n",
    "# * Si (Ingresos = bajos) y (Empleo = jubilado) Entonces [Crédito = no conceder]\n",
    "# * Si (Ingresos = bajos) y (Empleo = parado) Entonces [Crédito = no conceder]\n",
    "# * Si (Ingresos = bajos) y (Empleo = laboral) y (Productos = uno) Entonces [Crédito = no conceder]\n",
    "# * Si (Ingresos = bajos) y (Empleo = parado) Entonces [Crédito = no conceder]\n",
    "# * Si (Ingresos = bajos) y (Empleo = jubilado) Entonces [Crédito = no conceder]\n",
    "# * Si (Ingresos = bajos) y (Propiedades = ninguna) y (Productos = ninguno) Entonces [Crédito = no conceder]\n",
    "# * Si (Ingresos = bajos) y (Empleo = parado) Entonces [Crédito = no conceder]\n",
    "# * Si (Ingresos = medios) y (Propiedades = ninguna) y (Empleo = jubilado) Entonces [Crédito = no conceder]\n",
    "# * Si (Ingresos = bajos) y (Empleo = jubilado) Entonces [Crédito = no conceder]\n",
    "# * Si (Empleo = parado) y (Ingresos = medios) y (Propiedades = ninguna) Entonces [Crédito = no conceder]\n",
    "# * Si (Ingresos = bajos) y (Estado civil = divorciado) y (Propiedades = ninguna) Entonces [Crédito = no conceder]\n",
    "# * Si (Ingresos = bajos) y (Estado civil = divorciado) y (Empleo = laboral) y (Productos = ninguno) Entonces [Crédito = no conceder]\n",
    "# * Si (Ingresos = medios) y (Empleo = parado) y (Propiedades = ninguna) Entonces [Crédito = no conceder]\n",
    "# * Si (Ingresos = bajos) y (Empleo = jubilado) Entonces [Crédito = no conceder]\n",
    "# * Si (Ingresos = medios) y (Productos = ninguno) y (Propiedades = una) Entonces [Crédito = no conceder]\n",
    "# * Si (Ingresos = bajos) y (Empleo = jubilado) Entonces [Crédito = no conceder]\n",
    "# * Si (Ingresos = bajos) y (Empleo = laboral) y (Productos = ninguno) Entonces [Crédito = no conceder]\n",
    "# * Si (Ingresos = medios) y (Empleo = parado) y (Propiedades = ninguna) Entonces [Crédito = no conceder]\n",
    "# * Si (Ingresos = medios) y (Hijos = dos o más) y (Propiedades = una) y (Productos = dos o más) Entonces [Crédito = no conceder]\n",
    "# * En caso contrario, [Crédito = estudiar]\n",
    "\n",
    "print(rendimiento_RD(credito_rd_pd,credito.entr))\n",
    "# 0.9353846153846154\n",
    "print(rendimiento_RD(credito_rd_pd,credito.valid))\n",
    "# 1.0\n",
    "print(rendimiento_RD(credito_rd_pd,credito.test))\n",
    "# 0.9877300613496932"
   ]
  },
  {
   "cell_type": "code",
   "execution_count": null,
   "metadata": {
    "collapsed": true
   },
   "outputs": [],
   "source": []
  }
 ],
 "metadata": {
  "kernelspec": {
   "display_name": "Python 3",
   "language": "python",
   "name": "python3"
  },
  "language_info": {
   "codemirror_mode": {
    "name": "ipython",
    "version": 3
   },
   "file_extension": ".py",
   "mimetype": "text/x-python",
   "name": "python",
   "nbconvert_exporter": "python",
   "pygments_lexer": "ipython3",
   "version": "3.6.2"
  }
 },
 "nbformat": 4,
 "nbformat_minor": 2
}
